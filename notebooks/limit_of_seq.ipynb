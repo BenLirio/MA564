{
  "nbformat": 4,
  "nbformat_minor": 0,
  "metadata": {
    "colab": {
      "name": "limit_of_seq.ipynb",
      "provenance": [],
      "authorship_tag": "ABX9TyNfwKWyQnfqR20uhSh75tbK",
      "include_colab_link": true
    },
    "kernelspec": {
      "name": "python3",
      "display_name": "Python 3"
    },
    "language_info": {
      "name": "python"
    }
  },
  "cells": [
    {
      "cell_type": "markdown",
      "metadata": {
        "id": "view-in-github",
        "colab_type": "text"
      },
      "source": [
        "<a href=\"https://colab.research.google.com/github/BenLirio/MA564/blob/master/notebooks/limit_of_seq.ipynb\" target=\"_parent\"><img src=\"https://colab.research.google.com/assets/colab-badge.svg\" alt=\"Open In Colab\"/></a>"
      ]
    },
    {
      "cell_type": "code",
      "execution_count": null,
      "metadata": {
        "id": "mzDVyy-4dd3u"
      },
      "outputs": [],
      "source": [
        "from sympy import *"
      ]
    }
  ]
}